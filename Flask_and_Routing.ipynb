{
 "cells": [
  {
   "cell_type": "markdown",
   "id": "3980e65e",
   "metadata": {},
   "source": [
    "## Routing"
   ]
  },
  {
   "cell_type": "code",
   "execution_count": 6,
   "id": "d1e07dfa",
   "metadata": {},
   "outputs": [
    {
     "name": "stdout",
     "output_type": "stream",
     "text": [
      " * Serving Flask app \"__main__\" (lazy loading)\n",
      " * Environment: production\n",
      "\u001b[31m   WARNING: This is a development server. Do not use it in a production deployment.\u001b[0m\n",
      "\u001b[2m   Use a production WSGI server instead.\u001b[0m\n",
      " * Debug mode: off\n"
     ]
    },
    {
     "name": "stderr",
     "output_type": "stream",
     "text": [
      " * Running on all addresses.\n",
      "   WARNING: This is a development server. Do not use it in a production deployment.\n",
      " * Running on http://172.30.1.33:8080/ (Press CTRL+C to quit)\n",
      "172.30.1.33 - - [22/Jun/2023 22:39:28] \"GET / HTTP/1.1\" 200 -\n",
      "172.30.1.33 - - [22/Jun/2023 22:39:44] \"GET /message/5 HTTP/1.1\" 200 -\n"
     ]
    }
   ],
   "source": [
    "from flask import Flask\n",
    "\n",
    "app = Flask(__name__)\n",
    "\n",
    "def add_file(data):\n",
    "    return data + 5\n",
    "\n",
    "@app.route(\"/\") #@app안에 route가 구현되어 있다 정도로만 알아두기\n",
    "def hello():\n",
    "    return \"<h1>Hello World!</h1>\"\n",
    "\n",
    "@app.route(\"/profile/<username>\") # 내가 원하는 값을 돌려 줌\n",
    "def get_profile(username):\n",
    "    return f\"Profile: {username}\"\n",
    "\n",
    "@app.route(\"/profile/<username>\")\n",
    "def print_name(username):\n",
    "    return f\"<h3>Hello {username}!</h3>\"\n",
    "\n",
    "@app.route(\"/message/<int:message_id>\")\n",
    "def get_message(message_id):\n",
    "    data = add_file(message_id)\n",
    "    return f\"<h1>{data}</h1>\"\n",
    "\n",
    "if __name__ == \"__main__\":\n",
    "    app.run(host = \"0.0.0.0\",port = \"8080\") # "
   ]
  },
  {
   "cell_type": "markdown",
   "id": "dfc4b3d7",
   "metadata": {},
   "source": [
    "## RestAPI"
   ]
  },
  {
   "cell_type": "code",
   "execution_count": 10,
   "id": "9bfeb1a6",
   "metadata": {},
   "outputs": [
    {
     "name": "stdout",
     "output_type": "stream",
     "text": [
      "Requirement already satisfied: pip in c:\\users\\dongy\\anaconda3\\lib\\site-packages (22.3.1)\n",
      "Collecting pip\n",
      "  Downloading pip-23.1.2-py3-none-any.whl (2.1 MB)\n",
      "     ---------------------------------------- 2.1/2.1 MB 14.6 MB/s eta 0:00:00\n",
      "Requirement already satisfied: setuptools in c:\\users\\dongy\\anaconda3\\lib\\site-packages (61.2.0)\n",
      "Collecting setuptools\n",
      "  Downloading setuptools-68.0.0-py3-none-any.whl (804 kB)\n",
      "     ------------------------------------- 804.0/804.0 kB 16.9 MB/s eta 0:00:00\n"
     ]
    },
    {
     "name": "stderr",
     "output_type": "stream",
     "text": [
      "ERROR: To modify pip, please run the following command:\n",
      "C:\\Users\\dongy\\anaconda3\\python.exe -m pip install --upgrade pip setuptools\n",
      "\n",
      "[notice] A new release of pip available: 22.3.1 -> 23.1.2\n",
      "[notice] To update, run: python.exe -m pip install --upgrade pip\n"
     ]
    },
    {
     "name": "stdout",
     "output_type": "stream",
     "text": [
      "Collecting httpie\n",
      "  Downloading httpie-3.2.2-py3-none-any.whl (127 kB)\n",
      "     -------------------------------------- 127.4/127.4 kB 7.8 MB/s eta 0:00:00\n",
      "Collecting requests-toolbelt>=0.9.1\n",
      "  Downloading requests_toolbelt-1.0.0-py2.py3-none-any.whl (54 kB)\n",
      "     ---------------------------------------- 54.5/54.5 kB ? eta 0:00:00\n",
      "Requirement already satisfied: charset-normalizer>=2.0.0 in c:\\users\\dongy\\anaconda3\\lib\\site-packages (from httpie) (2.0.4)\n",
      "Requirement already satisfied: multidict>=4.7.0 in c:\\users\\dongy\\anaconda3\\lib\\site-packages (from httpie) (5.1.0)\n",
      "Requirement already satisfied: Pygments>=2.5.2 in c:\\users\\dongy\\anaconda3\\lib\\site-packages (from httpie) (2.11.2)\n",
      "Requirement already satisfied: pip in c:\\users\\dongy\\anaconda3\\lib\\site-packages (from httpie) (22.3.1)\n",
      "Requirement already satisfied: colorama>=0.2.4 in c:\\users\\dongy\\anaconda3\\lib\\site-packages (from httpie) (0.4.4)\n",
      "Requirement already satisfied: setuptools in c:\\users\\dongy\\anaconda3\\lib\\site-packages (from httpie) (61.2.0)\n",
      "Requirement already satisfied: defusedxml>=0.6.0 in c:\\users\\dongy\\anaconda3\\lib\\site-packages (from httpie) (0.7.1)\n",
      "Requirement already satisfied: rich>=9.10.0 in c:\\users\\dongy\\anaconda3\\lib\\site-packages (from httpie) (12.6.0)\n",
      "Requirement already satisfied: requests[socks]>=2.22.0 in c:\\users\\dongy\\anaconda3\\lib\\site-packages (from httpie) (2.27.1)\n",
      "Requirement already satisfied: urllib3<1.27,>=1.21.1 in c:\\users\\dongy\\anaconda3\\lib\\site-packages (from requests[socks]>=2.22.0->httpie) (1.26.9)\n",
      "Requirement already satisfied: idna<4,>=2.5 in c:\\users\\dongy\\anaconda3\\lib\\site-packages (from requests[socks]>=2.22.0->httpie) (3.3)\n",
      "Requirement already satisfied: certifi>=2017.4.17 in c:\\users\\dongy\\anaconda3\\lib\\site-packages (from requests[socks]>=2.22.0->httpie) (2021.10.8)\n",
      "Requirement already satisfied: PySocks!=1.5.7,>=1.5.6 in c:\\users\\dongy\\anaconda3\\lib\\site-packages (from requests[socks]>=2.22.0->httpie) (1.7.1)\n",
      "Requirement already satisfied: commonmark<0.10.0,>=0.9.0 in c:\\users\\dongy\\anaconda3\\lib\\site-packages (from rich>=9.10.0->httpie) (0.9.1)\n",
      "Installing collected packages: requests-toolbelt, httpie\n",
      "Successfully installed httpie-3.2.2 requests-toolbelt-1.0.0\n"
     ]
    },
    {
     "name": "stderr",
     "output_type": "stream",
     "text": [
      "\n",
      "[notice] A new release of pip available: 22.3.1 -> 23.1.2\n",
      "[notice] To update, run: python.exe -m pip install --upgrade pip\n"
     ]
    }
   ],
   "source": [
    "!pip install --upgrade pip setuptools\n",
    "!pip install --upgrade httpie"
   ]
  },
  {
   "cell_type": "code",
   "execution_count": 12,
   "id": "c9704902",
   "metadata": {},
   "outputs": [],
   "source": [
    "from flask import Flask,jsonify\n",
    "app = Flask(__name__)"
   ]
  },
  {
   "cell_type": "code",
   "execution_count": 13,
   "id": "14660d7d",
   "metadata": {},
   "outputs": [],
   "source": [
    "@app.route(\"/json_test\")\n",
    "def hello_json():\n",
    "    data = {\"name\":\"Dongyoon\",\"family\":\"Kim\"}\n",
    "    return jsonify(data)\n",
    "    \n",
    "@app.route(\"/server_info\")\n",
    "def server_json():\n",
    "    data = {\"server_name\":\"0.0.0.0\",\"server_port\":\"8080\"}\n",
    "    return jsonify(data)"
   ]
  },
  {
   "cell_type": "code",
   "execution_count": 15,
   "id": "0c4cb054",
   "metadata": {},
   "outputs": [
    {
     "name": "stdout",
     "output_type": "stream",
     "text": [
      " * Serving Flask app \"__main__\" (lazy loading)\n",
      " * Environment: production\n",
      "\u001b[31m   WARNING: This is a development server. Do not use it in a production deployment.\u001b[0m\n",
      "\u001b[2m   Use a production WSGI server instead.\u001b[0m\n",
      " * Debug mode: off\n"
     ]
    },
    {
     "name": "stderr",
     "output_type": "stream",
     "text": [
      " * Running on all addresses.\n",
      "   WARNING: This is a development server. Do not use it in a production deployment.\n",
      " * Running on http://172.30.1.33:8080/ (Press CTRL+C to quit)\n",
      "172.30.1.33 - - [22/Jun/2023 23:24:53] \"GET / HTTP/1.1\" 404 -\n",
      "172.30.1.33 - - [22/Jun/2023 23:25:00] \"GET / HTTP/1.1\" 404 -\n",
      "172.30.1.33 - - [22/Jun/2023 23:25:10] \"GET /json_test HTTP/1.1\" 200 -\n",
      "172.30.1.33 - - [22/Jun/2023 23:25:21] \"GET /server_info HTTP/1.1\" 200 -\n"
     ]
    }
   ],
   "source": [
    "if __name__ == \"__main__\":\n",
    "    app.run(host = \"0.0.0.0\",\n",
    "            port = \"8080\")"
   ]
  },
  {
   "cell_type": "code",
   "execution_count": null,
   "id": "aac75656",
   "metadata": {},
   "outputs": [],
   "source": []
  },
  {
   "cell_type": "code",
   "execution_count": null,
   "id": "6c85fc5a",
   "metadata": {},
   "outputs": [],
   "source": []
  }
 ],
 "metadata": {
  "kernelspec": {
   "display_name": "Python 3 (ipykernel)",
   "language": "python",
   "name": "python3"
  },
  "language_info": {
   "codemirror_mode": {
    "name": "ipython",
    "version": 3
   },
   "file_extension": ".py",
   "mimetype": "text/x-python",
   "name": "python",
   "nbconvert_exporter": "python",
   "pygments_lexer": "ipython3",
   "version": "3.9.12"
  }
 },
 "nbformat": 4,
 "nbformat_minor": 5
}
